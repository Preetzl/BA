{
 "cells": [
  {
   "cell_type": "code",
   "execution_count": 1,
   "metadata": {},
   "outputs": [],
   "source": [
    "import numpy as np\n",
    "from skfem import *\n",
    "from skfem.supermeshing import intersect, elementwise_quadrature\n",
    "from skfem.models.elasticity import (linear_elasticity, lame_parameters,\n",
    "                                     linear_stress)\n",
    "from skfem.helpers import dot, sym_grad, jump, mul\n",
    "from skfem.io.json import from_file\n",
    "\n",
    "from pathlib import Path\n",
    "import pandas as pd \n",
    "import json \n",
    "import matplotlib.pyplot as plt \n",
    "from skfem.mesh.mesh  import Mesh\n",
    "from skfem.visuals.matplotlib import plot, draw\n",
    "from meshio.stl import _stl\n",
    "import stl\n",
    "from stl import mesh\n",
    "\n",
    "import skfem as fem \n",
    "from skfem.helpers import dot, grad \n"
   ]
  },
  {
   "cell_type": "code",
   "execution_count": 2,
   "metadata": {},
   "outputs": [],
   "source": [
    "young_modulus = 1000\n",
    "poisson_ratio = 0.7\n",
    "\n",
    "alpha = 1000\n",
    "\n",
    "\n",
    "weakform = linear_elasticity(*lame_parameters(young_modulus, poisson_ratio))\n",
    "C = linear_stress(*lame_parameters(young_modulus, poisson_ratio))\n",
    "\n",
    "\n",
    "\n",
    "\n",
    "@fem.BilinearForm\n",
    "def a(u,v,_):\n",
    "    return dot(grad(u),grad(v))\n",
    "\n",
    "\n",
    "\n",
    "\n",
    "@fem.LinearForm\n",
    "def L(v,w):\n",
    "    x, y = w.x\n",
    "    f = np.sin(np.pi*x)*np.cos(np.pi*y)\n",
    "    return f*v\n",
    "\n",
    "\n",
    "\n"
   ]
  },
  {
   "cell_type": "code",
   "execution_count": 6,
   "metadata": {},
   "outputs": [
    {
     "name": "stdout",
     "output_type": "stream",
     "text": [
      "<skfem CellBasis(MeshTri1, ElementTriP1) object>\n",
      "  Number of elements: 1\n",
      "  Number of DOFs: 3\n",
      "  Size: 216 B\n",
      "<skfem MeshTri1 object>\n",
      "  Number of elements: 1\n",
      "  Number of vertices: 3\n",
      "  Number of nodes: 3\n",
      "  Named subdomains [# elements]: domain [0]\n",
      "  Named boundaries [# facets]: contact [1], dirichlet [0]\n",
      "<skfem DofsView(MeshTri1, ElementTriP1) object>\n",
      "  Number of nodal DOFs: 3 ['u']\n",
      "[0. 0. 0.]\n"
     ]
    },
    {
     "data": {
      "image/png": "[encoded data removed]",
      "text/plain": [
       "<Figure size 640x480 with 1 Axes>"
      ]
     },
     "metadata": {},
     "output_type": "display_data"
    }
   ],
   "source": [
    "#mesh_file = Path('test_mesh.json')\n",
    "mesh_file = Path('test_mesh.json ')\n",
    "m1 = from_file(mesh_file)\n",
    "\n",
    "\n",
    "\n",
    "\n",
    "e1 = fem.ElementTriP1()\n",
    "\n",
    "base = fem.Basis(m1, e1)\n",
    "\n",
    "D = base.get_dofs()\n",
    "\n",
    "l = L.assemble(base)\n",
    "\n",
    "A = a.assemble(base)\n",
    "\n",
    "x = fem.solve(*fem.condense(A, l, D=D))\n",
    "\n",
    "plot(m1, x)\n",
    "print(base)\n",
    "\n",
    "print(m1)\n",
    "print(D)\n",
    "print(x)"
   ]
  },
  {
   "cell_type": "code",
   "execution_count": 77,
   "metadata": {},
   "outputs": [
    {
     "name": "stdout",
     "output_type": "stream",
     "text": [
      "<skfem FacetBasis(MeshTri1, ElementVector) object>\n",
      "  Number of elements: 12\n",
      "  Number of DOFs: 24\n",
      "  Size: 6912 B\n",
      "<skfem InteriorFacetBasis(MeshTri1, ElementVector) object>\n",
      "  Number of elements: 9\n",
      "  Number of DOFs: 24\n",
      "  Size: 5184 B\n",
      "[0. 0. 0. 0. 0. 0. 0. 0. 0. 0. 0. 0. 0. 0. 0. 0. 0. 0. 0. 0. 0. 0. 0. 0.]\n"
     ]
    },
    {
     "data": {
      "image/png": "[encoded data removed]",
      "text/plain": [
       "<Figure size 640x480 with 1 Axes>"
      ]
     },
     "metadata": {},
     "output_type": "display_data"
    },
    {
     "data": {
      "image/png": "[encoded data removed]",
      "text/plain": [
       "<Figure size 640x480 with 1 Axes>"
      ]
     },
     "metadata": {},
     "output_type": "display_data"
    }
   ],
   "source": [
    "from skfem import *\n",
    "from skfem.helpers import *\n",
    "import numpy as np\n",
    "\n",
    "m = MeshTri(np.array([[0, 0],\n",
    "                      [10, 5],\n",
    "                      [10, 0],\n",
    "                      [20, 8],\n",
    "                      [20, 0],\n",
    "                      [30, 9],\n",
    "                      [30, 0],\n",
    "                      [40, 8],\n",
    "                      [40, 0],\n",
    "                      [50, 5],\n",
    "                      [50, 0],\n",
    "                      [60, 0]]).T,\n",
    "            np.array([[7, 8, 9],\n",
    "                      [9, 10, 11],\n",
    "                      [8, 9, 10],\n",
    "                      [1, 3, 4],\n",
    "                      [0, 1, 2],\n",
    "                      [3, 5, 6],\n",
    "                      [5, 6, 7],\n",
    "                      [3, 4, 6],\n",
    "                      [6, 7, 8],\n",
    "                      [1, 2, 4]]).T)\n",
    "\n",
    "draw(m)\n",
    "\n",
    "fbasis = FacetBasis(m, ElementVector(ElementTriP1()))\n",
    "ifbasis = InteriorFacetBasis(m, ElementVector(ElementTriP1()), side=0)\n",
    "\n",
    "\n",
    "print(fbasis)\n",
    "print(ifbasis)\n",
    "\n",
    "@BilinearForm\n",
    "def bilinf(u, v, w):\n",
    "    t = np.array([-w.n[1], w.n[0]])\n",
    "    ut = ddot(grad(u), prod(t, t))\n",
    "    vt = ddot(grad(v), prod(t, t))\n",
    "    return ut * vt\n",
    "\n",
    "\n",
    "A = asm(bilinf, [ifbasis, fbasis])\n",
    "f = ifbasis.zeros()\n",
    "\n",
    "print(f)\n",
    "f[ifbasis.get_dofs(nodes=(30, 0)).all('u^2')] = -1e-2\n",
    "\n",
    "D1 = ifbasis.get_dofs(nodes=(0, 0)).all()\n",
    "D2 = ifbasis.get_dofs(nodes=(60, 0)).all()\n",
    "D = np.concatenate((D1, D2))\n",
    "\n",
    "x = solve(*condense(A, f, D=D))\n",
    "m.translated(x[fbasis.nodal_dofs]).draw(node_numbering=True).show()"
   ]
  },
  {
   "cell_type": "markdown",
   "metadata": {},
   "source": [
    "@BilinearForm\n",
    "def bilinf(u, v, w):\n",
    "    t = np.array([-w.n[1], w.n[0]])\n",
    "    ut = ddot(grad(u), prod(t, t))\n",
    "    vt = ddot(grad(v), prod(t, t))\n",
    "    return ut * vt\n",
    "\n",
    "Wir benutzen die Biliniear Form mit der Gleichung \n",
    "\n",
    "$$u* vt$$\n",
    "mit $$u_t= \\Delta(u)\\cdot(t\\otimes t)$$\n",
    "$$v_t = \\Delta(v)\\cdot (t \\otimes t)$$\n",
    "\n",
    "u ist die Verschiebung in x-Richtung und v ist die Verschiebung in y-Richtung \n"
   ]
  },
  {
   "cell_type": "code",
   "execution_count": 78,
   "metadata": {},
   "outputs": [
    {
     "name": "stderr",
     "output_type": "stream",
     "text": [
      "Initializing InteriorFacetBasis(MeshTri1, ElementVector) with no facets.\n"
     ]
    },
    {
     "name": "stdout",
     "output_type": "stream",
     "text": [
      "<skfem FacetBasis(MeshTri1, ElementVector) object>\n",
      "  Number of elements: 3\n",
      "  Number of DOFs: 6\n",
      "  Size: 1728 B\n",
      "<skfem InteriorFacetBasis(MeshTri1, ElementVector) object>\n",
      "  Number of elements: 0\n",
      "  Number of DOFs: 6\n",
      "  Size: 0 B\n"
     ]
    },
    {
     "data": {
      "image/png": "[encoded data removed]",
      "text/plain": [
       "<Figure size 640x480 with 1 Axes>"
      ]
     },
     "metadata": {},
     "output_type": "display_data"
    },
    {
     "data": {
      "text/plain": [
       "array([0, 1, 2, 3, 4, 5], dtype=int64)"
      ]
     },
     "execution_count": 78,
     "metadata": {},
     "output_type": "execute_result"
    }
   ],
   "source": [
    "# m2 = np.array([[0, 0],\n",
    "#                 [10, 5],\n",
    "#                 [10, 0],\n",
    "#                 [20, 8],\n",
    "#                       [20, 0],\n",
    "#                       [30, 9],\n",
    "#                       [30, 0],\n",
    "#                       [40, 8],\n",
    "#                       [40, 0],\n",
    "#                       [50, 5],\n",
    "#                       [50, 0],\n",
    "#                       [60, 0]]).T\n",
    "\n",
    "m2 = MeshTri(np.array([[0,0],[1,0],[0.5,0.5]]).T,\n",
    "             np.array([[0,1,2]]).T)\n",
    "\n",
    "fbasis = FacetBasis(m2, ElementVector(ElementTriP1()))\n",
    "ifbasis = InteriorFacetBasis(m2, ElementVector(ElementTriP1()), side = 0)\n",
    "\n",
    "print(fbasis)\n",
    "print(ifbasis)\n",
    "@BilinearForm\n",
    "def bilinf(u, v, w):\n",
    "    t = np.array([-w.n[1], w.n[0]])\n",
    "    ut = ddot(grad(u), prod(t, t))\n",
    "    vt = ddot(grad(v), prod(t, t))\n",
    "    return ut * vt\n",
    "\n",
    "A = asm(bilinf, fbasis)\n",
    "# f = ifbasis.zeros()\n",
    "# f[ifbasis.get_dofs(nodes=(30,0)).all('u^2')] = -1e-2\n",
    "\n",
    "# D1 = ifbasis.get_dofs(nodes=(0,0)).all()\n",
    "# D2 = ifbasis.get_dofs(nodes=(60,0)).all()\n",
    "# D = np.concatenate((D1,D2))\n",
    "D = fbasis.get_dofs(elements = (0)).flatten()\n",
    "\n",
    "x = solve(*condense(A, f, D=D))\n",
    "m2.translated(x[fbasis.nodal_dofs]).draw(node_numbering=True).show()\n",
    "\n",
    "D\n"
   ]
  }
 ],
 "metadata": {
  "kernelspec": {
   "display_name": "Python 3",
   "language": "python",
   "name": "python3"
  },
  "language_info": {
   "codemirror_mode": {
    "name": "ipython",
    "version": 3
   },
   "file_extension": ".py",
   "mimetype": "text/x-python",
   "name": "python",
   "nbconvert_exporter": "python",
   "pygments_lexer": "ipython3",
   "version": "3.12.0"
  }
 },
 "nbformat": 4,
 "nbformat_minor": 2
}
