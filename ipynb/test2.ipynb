{
 "cells": [
  {
   "cell_type": "code",
   "execution_count": 1,
   "metadata": {},
   "outputs": [],
   "source": [
    "import numpy as np\n",
    "from skfem import *\n",
    "from skfem.supermeshing import intersect, elementwise_quadrature\n",
    "from skfem.models.elasticity import (linear_elasticity, lame_parameters,\n",
    "                                     linear_stress)\n",
    "from skfem.helpers import dot, sym_grad, jump, mul\n",
    "from skfem.io.json import from_file\n",
    "\n",
    "from pathlib import Path\n",
    "import pandas as pd \n",
    "import json \n",
    "import matplotlib.pyplot as plt \n",
    "from skfem.mesh.mesh  import Mesh\n",
    "from skfem.visuals.matplotlib import plot, draw\n",
    "from meshio.stl import _stl\n",
    "import stl\n",
    "from stl import mesh\n",
    "\n",
    "import skfem as fem \n",
    "from skfem.helpers import dot, grad \n"
   ]
  },
  {
   "cell_type": "code",
   "execution_count": 20,
   "metadata": {},
   "outputs": [
    {
     "name": "stdout",
     "output_type": "stream",
     "text": [
      "<skfem DofsView(MeshTri1, ElementTriP1) object>\n",
      "  Number of nodal DOFs: 52 ['u']\n"
     ]
    },
    {
     "data": {
      "text/plain": [
       "<Axes: >"
      ]
     },
     "execution_count": 20,
     "metadata": {},
     "output_type": "execute_result"
    },
    {
     "data": {
      "image/png": "[encoded data removed]",
      "text/plain": [
       "<Figure size 640x480 with 1 Axes>"
      ]
     },
     "metadata": {},
     "output_type": "display_data"
    }
   ],
   "source": [
    "\n",
    "@fem.BilinearForm\n",
    "def a(u,v,_): \n",
    "    return dot(grad(u), grad(v))\n",
    "    \n",
    "    \n",
    "import numpy as np\n",
    "\n",
    "@fem.LinearForm\n",
    "def L(v,w): \n",
    "    x, y = w.x \n",
    "    # f= np.cos(np.pi*x)*np.sin(np.pi*y)\n",
    "    f= x**y\n",
    "    #f = np.sin(np.pi*x)\n",
    "    return f*v\n",
    "\n",
    "\n",
    "mesh = from_file('ex04_mesh.json')\n",
    "\n",
    "\n",
    "Vh = fem.Basis(mesh, fem.ElementTriP1())\n",
    "\n",
    "\n",
    "\n",
    "A = a.assemble(Vh) \n",
    "l = L.assemble(Vh)  # lastvektor \n",
    "\n",
    "# D = Vh.get_dofs([400])\n",
    "D = Vh.get_dofs()\n",
    "\n",
    "print(D)\n",
    "x = fem.solve(*fem.condense(A, l, D=D))\n",
    "\n",
    "plot(mesh, x)\n",
    "\n"
   ]
  },
  {
   "cell_type": "code",
   "execution_count": 3,
   "metadata": {},
   "outputs": [
    {
     "data": {
      "text/plain": [
       "'0.140305128'"
      ]
     },
     "execution_count": 3,
     "metadata": {},
     "output_type": "execute_result"
    }
   ],
   "source": [
    "@fem.Functional\n",
    "\n",
    "def error(w):\n",
    "\n",
    "    x, y = w.x\n",
    "\n",
    "    uh = w['uh']\n",
    "\n",
    "    u = np.sin(np.pi * x) * np.sin(np.pi * y) / (2. * np.pi ** 2)\n",
    "\n",
    "    return (uh - u) ** 2\n",
    "\n",
    "str(round(error.assemble(Vh, uh=Vh.interpolate(x)), 9))\n"
   ]
  },
  {
   "cell_type": "code",
   "execution_count": null,
   "metadata": {},
   "outputs": [],
   "source": [
    "\n"
   ]
  }
 ],
 "metadata": {
  "kernelspec": {
   "display_name": "Python 3",
   "language": "python",
   "name": "python3"
  },
  "language_info": {
   "codemirror_mode": {
    "name": "ipython",
    "version": 3
   },
   "file_extension": ".py",
   "mimetype": "text/x-python",
   "name": "python",
   "nbconvert_exporter": "python",
   "pygments_lexer": "ipython3",
   "version": "3.12.0"
  }
 },
 "nbformat": 4,
 "nbformat_minor": 2
}
