{
 "cells": [
  {
   "cell_type": "code",
   "execution_count": 9,
   "metadata": {},
   "outputs": [],
   "source": [
    "import numpy as np\n",
    "from scipy.sparse import *\n",
    "from skfem import *\n",
    "from skfem.models.elasticity import linear_elasticity, lame_parameters\n",
    "from skfem.models.ani_elasticity import *\n",
    "from skfem.visuals.matplotlib import plot, draw\n",
    "from skfem.helpers import dot, sym_grad, jump, mul, eye"
   ]
  },
  {
   "cell_type": "markdown",
   "metadata": {},
   "source": [
    "TETMESH IN THE WILD LIBRARY WITH FORCE Implication"
   ]
  },
  {
   "cell_type": "code",
   "execution_count": 15,
   "metadata": {},
   "outputs": [
    {
     "name": "stderr",
     "output_type": "stream",
     "text": [
      "Transforming over 1000 elements to C_CONTIGUOUS.\n"
     ]
    },
    {
     "name": "stdout",
     "output_type": "stream",
     "text": [
      "Starting tetrahedralization process...\n",
      "Tetrahedralization complete.\n",
      "Number of vertices: 14061\n",
      "Number of tetrahedra: 54276\n",
      "Prepared numpy array for points.\n",
      "Prepared numpy array for tetrahedra.\n",
      "Tetrahedralization process completed successfully.\n"
     ]
    }
   ],
   "source": [
    "##  TETMESH IN THE WILD LIBRARY INPUT AND TEST ##\n",
    "\n",
    "import pytetwild\n",
    "import meshio\n",
    "import numpy as np\n",
    "from skfem import *\n",
    "\n",
    "stl : meshio.Mesh = meshio.read(\"C:/Users/AlexP/Desktop/BA/STL_Files/TestBenchy.stl\")\n",
    "vertices, tetrahedras = pytetwild.tetrahedralize(stl.points, stl.cells_dict[\"triangle\"])\n",
    "\n",
    "cells = meshio.CellBlock('tetra', tetrahedras)\n",
    "# write intermediate file\n",
    "meshio.write_points_cells(\"outFile.vtk\", vertices, [cells])\n",
    "\n",
    "# in case you want to directly continue with it\n",
    "p = np.array([vertices[:,0],  vertices[:,1],  vertices[:,2]], dtype=np.float64)\n",
    "t = np.array(tetrahedras, dtype=np.float64).T\n",
    "m = MeshTet(p, t)\n",
    "\n"
   ]
  },
  {
   "cell_type": "code",
   "execution_count": 21,
   "metadata": {},
   "outputs": [
    {
     "name": "stdout",
     "output_type": "stream",
     "text": [
      "[0.07896537 0.07589545 0.07734636 0.07342325 0.07594342 0.06998116\n",
      " 0.07469312 0.07229413 0.07371766 0.07219656 0.06639942 0.07076339\n",
      " 0.06737868 0.07010517 0.07017796 0.06648239 0.07729522 0.07708428\n",
      " 0.06470294 0.06250977 0.07438416 0.07074797 0.0773464  0.06086077\n",
      " 0.06047857 0.07062286 0.06730954 0.07894504]\n"
     ]
    }
   ],
   "source": [
    "e1 = ElementTetP1()\n",
    "e = ElementVector(e1)\n",
    "ib = Basis(m, e, MappingIsoparametric(m, e1), 3)\n",
    "\n",
    "# Materialparameter\n",
    "young_modulus = 31.1e9\n",
    "nu = 0.35\n",
    "\n",
    "# assemblierung stiffness matrix\n",
    "K = asm(linear_elasticity(*lame_parameters(young_modulus, nu)), ib)\n",
    "\n",
    "# label dofs\n",
    "dofs = {\n",
    "        'left': ib.get_dofs(lambda x: np.isclose(x[0], x[0].min())),\n",
    "        'right': ib.get_dofs(lambda x: np.isclose(x[0], x[0].max())),\n",
    "        'up': ib.get_dofs(lambda x: np.isclose(x[2], x[2].max())),\n",
    "        'down': ib.get_dofs(lambda x: np.isclose(x[2], x[2].min())),\n",
    "        'front': ib.get_dofs(lambda x: np.isclose(x[1], x[1].max())),\n",
    "        'back': ib.get_dofs(lambda x: np.isclose(x[1], x[1].min()))\n",
    "    }\n",
    "\n",
    "u = ib.zeros()\n",
    "\n",
    "# force applied to knots\n",
    "Kraft = 50000000  \n",
    "F = np.zeros(u.shape)\n",
    "up_dofs = dofs['up'].nodal['u^3']\n",
    "F[up_dofs] = Kraft\n",
    "\n",
    "# Boundary conditions fix\n",
    "fixed_dofs = np.hstack([dofs['down'].all()])\n",
    "u[fixed_dofs] = 0\n",
    "\n",
    "#set dofs and solve DGL\n",
    "free_dofs = np.setdiff1d(np.arange(K.shape[0]), fixed_dofs)\n",
    "K_free = K[free_dofs][:, free_dofs]\n",
    "F_free = F[free_dofs]\n",
    "u_free = solve(K_free, F_free)\n",
    "u[free_dofs] = u_free\n",
    "\n",
    "# calculating upper shift only for the hard coded example\n",
    "verschiebung_oben = u[up_dofs]\n",
    "\n",
    "\n",
    "# implement shifts\n",
    "u[up_dofs] = verschiebung_oben\n",
    "\n",
    "\n",
    "I = ib.complement_dofs(np.concatenate((dofs['up'], dofs['down'])))\n",
    "u = solve(*condense(K, x=u, I=I))\n",
    "print(u[up_dofs])\n",
    "\n",
    "factor = 50\n",
    "m_defo = m.translated(factor * u[ib.nodal_dofs])\n",
    "m_defo.save(\"C:/Users/AlexP/Desktop/BA/Meshes/Benchynew_\" + '.vtk', {\"affected\": u[ib.nodal_dofs][0]})"
   ]
  },
  {
   "cell_type": "markdown",
   "metadata": {},
   "source": [
    "FEM IN ALL DIRECTIONS WITHOUT FORCE IMPLECATION "
   ]
  },
  {
   "cell_type": "code",
   "execution_count": 4,
   "metadata": {},
   "outputs": [
    {
     "name": "stdout",
     "output_type": "stream",
     "text": [
      "\n"
     ]
    }
   ],
   "source": [
    "## FEM IN ALL DIRECTIONS WITHOUT FORCE IMPLECATION ##\n",
    "\n",
    "\n",
    "import numpy as np\n",
    "from skfem import *\n",
    "from skfem.models.elasticity import linear_elasticity, lame_parameters\n",
    "\n",
    "def fem_in_directions(vertice_shift, mesh_path, young_modulus, nu):\n",
    "    m = MeshTet()\n",
    "    m = m.load(mesh_path)\n",
    "\n",
    "    e1 = ElementTetP1()\n",
    "    e = ElementVector(e1)\n",
    "    ib = Basis(m, e, MappingIsoparametric(m, e1), 3)\n",
    "\n",
    "    K = asm(linear_elasticity(*lame_parameters(young_modulus, nu)), ib)\n",
    "\n",
    "    dofs = {\n",
    "        'left': ib.get_dofs(lambda x: np.isclose(x[0], x[0].min())),\n",
    "        'right': ib.get_dofs(lambda x: np.isclose(x[0], x[0].max())),\n",
    "        'up': ib.get_dofs(lambda x: np.isclose(x[2], x[2].max())),\n",
    "        'down': ib.get_dofs(lambda x: np.isclose(x[2], x[2].min())),\n",
    "        'front': ib.get_dofs(lambda x: np.isclose(x[1], x[1].max())),\n",
    "        'back': ib.get_dofs(lambda x: np.isclose(x[1], x[1].min()))\n",
    "    }\n",
    "\n",
    "    displacements = {\n",
    "        'left': ('right', 'u^1', -vertice_shift),\n",
    "        'right': ('left', 'u^1', vertice_shift),\n",
    "        'up': ('down', 'u^3', vertice_shift),\n",
    "        'down': ('up', 'u^3', -vertice_shift),\n",
    "        'front': ('back', 'u^2', vertice_shift),\n",
    "        'back': ('front', 'u^2', -vertice_shift)\n",
    "    }\n",
    "\n",
    "    sf = 10.0\n",
    "\n",
    "    for direction, (opposite, component, shift) in displacements.items():\n",
    "        u = ib.zeros()\n",
    "        u[dofs[direction].nodal[component]] = shift\n",
    "\n",
    "        # Flatten the DOFs to fix the issue\n",
    "        I = ib.complement_dofs(np.concatenate([dofs[opposite].all(), dofs[direction].all()]))\n",
    "\n",
    "        u = solve(*condense(K, x=u, I=I))\n",
    "\n",
    "        m_shifted = m.translated(sf * u[ib.nodal_dofs])\n",
    "        m_shifted.save(f\"C:/Users/AlexP/Desktop/BA/Meshes/output_{direction}.vtk\", {\"affected\": u[ib.nodal_dofs][0]})\n",
    "\n",
    "# Example usage\n",
    "vertice_shift = 1  # or any desired value\n",
    "mesh_path = \"C:/Users/AlexP/Desktop/BA/Meshes/Benchy.msh\"\n",
    "young_modulus = 31.1e9\n",
    "nu = 0.35\n",
    "\n",
    "fem_in_directions(vertice_shift, mesh_path, young_modulus, nu)\n"
   ]
  }
 ],
 "metadata": {
  "kernelspec": {
   "display_name": "Python 3",
   "language": "python",
   "name": "python3"
  },
  "language_info": {
   "codemirror_mode": {
    "name": "ipython",
    "version": 3
   },
   "file_extension": ".py",
   "mimetype": "text/x-python",
   "name": "python",
   "nbconvert_exporter": "python",
   "pygments_lexer": "ipython3",
   "version": "3.12.0"
  }
 },
 "nbformat": 4,
 "nbformat_minor": 2
}
