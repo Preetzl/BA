{
 "cells": [
  {
   "cell_type": "code",
   "execution_count": 1,
   "metadata": {},
   "outputs": [
    {
     "name": "stdout",
     "output_type": "stream",
     "text": [
      "   coordinate_x  coordinate_y  displacement_x  displacement_y  load_x  load_y\n",
      "0             0             0             0.0             0.0     NaN     NaN\n",
      "1            20             0             NaN             0.0     0.0     NaN\n",
      "2             0            20             NaN             NaN   500.0     0.0\n"
     ]
    },
    {
     "data": {
      "text/html": [
       "<div>\n",
       "<style scoped>\n",
       "    .dataframe tbody tr th:only-of-type {\n",
       "        vertical-align: middle;\n",
       "    }\n",
       "\n",
       "    .dataframe tbody tr th {\n",
       "        vertical-align: top;\n",
       "    }\n",
       "\n",
       "    .dataframe thead th {\n",
       "        text-align: right;\n",
       "    }\n",
       "</style>\n",
       "<table border=\"1\" class=\"dataframe\">\n",
       "  <thead>\n",
       "    <tr style=\"text-align: right;\">\n",
       "      <th></th>\n",
       "      <th>start</th>\n",
       "      <th>end</th>\n",
       "      <th>area</th>\n",
       "      <th>material</th>\n",
       "    </tr>\n",
       "  </thead>\n",
       "  <tbody>\n",
       "    <tr>\n",
       "      <th>0</th>\n",
       "      <td>0</td>\n",
       "      <td>1</td>\n",
       "      <td>0.000002</td>\n",
       "      <td>1.000000e+10</td>\n",
       "    </tr>\n",
       "    <tr>\n",
       "      <th>1</th>\n",
       "      <td>1</td>\n",
       "      <td>2</td>\n",
       "      <td>0.000002</td>\n",
       "      <td>1.200000e+10</td>\n",
       "    </tr>\n",
       "    <tr>\n",
       "      <th>2</th>\n",
       "      <td>2</td>\n",
       "      <td>0</td>\n",
       "      <td>0.000003</td>\n",
       "      <td>1.000000e+10</td>\n",
       "    </tr>\n",
       "  </tbody>\n",
       "</table>\n",
       "</div>"
      ],
      "text/plain": [
       "   start  end      area      material\n",
       "0      0    1  0.000002  1.000000e+10\n",
       "1      1    2  0.000002  1.200000e+10\n",
       "2      2    0  0.000003  1.000000e+10"
      ]
     },
     "execution_count": 1,
     "metadata": {},
     "output_type": "execute_result"
    },
    {
     "ename": "",
     "evalue": "",
     "output_type": "error",
     "traceback": [
      "\u001b[1;31mThe Kernel crashed while executing code in the current cell or a previous cell. \n",
      "\u001b[1;31mPlease review the code in the cell(s) to identify a possible cause of the failure. \n",
      "\u001b[1;31mClick <a href='https://aka.ms/vscodeJupyterKernelCrash'>here</a> for more info. \n",
      "\u001b[1;31mView Jupyter <a href='command:jupyter.viewOutput'>log</a> for further details."
     ]
    }
   ],
   "source": [
    "import pandas as pd \n",
    "import numpy as np\n",
    "import matplotlib.pyplot as plt \n",
    "\n",
    "columns = ['coordinate_x','coordinate_y', 'displacement_x','displacement_y', 'load_x', 'load_y']\n",
    "\n",
    "data =[[0,0,0,0,np.nan,np.nan],\n",
    "       [20,0,np.nan,0,0,np.nan],\n",
    "       [0,20,np.nan,np.nan,500,0]]\n",
    "\n",
    "nodes = pd.DataFrame(data, columns = columns )\n",
    "\n",
    "columns = ['start','end', 'area','material']\n",
    "\n",
    "data = [[0,1, 2e-6,10e9],\n",
    "        [1,2,2e-6,12e9],\n",
    "        [2,0,3e-6,10e9]]\n",
    "\n",
    "elements = pd.DataFrame(data, columns = columns)\n",
    "\n",
    "print(nodes)\n",
    "\n",
    "elements\n",
    "\n",
    "\n",
    "\n",
    "\n",
    "\n",
    "\n"
   ]
  },
  {
   "cell_type": "code",
   "execution_count": 66,
   "metadata": {},
   "outputs": [
    {
     "data": {
      "text/html": [
       "<div>\n",
       "<style scoped>\n",
       "    .dataframe tbody tr th:only-of-type {\n",
       "        vertical-align: middle;\n",
       "    }\n",
       "\n",
       "    .dataframe tbody tr th {\n",
       "        vertical-align: top;\n",
       "    }\n",
       "\n",
       "    .dataframe thead th {\n",
       "        text-align: right;\n",
       "    }\n",
       "</style>\n",
       "<table border=\"1\" class=\"dataframe\">\n",
       "  <thead>\n",
       "    <tr style=\"text-align: right;\">\n",
       "      <th></th>\n",
       "      <th>start</th>\n",
       "      <th>end</th>\n",
       "      <th>area</th>\n",
       "      <th>material</th>\n",
       "      <th>length</th>\n",
       "      <th>stiffness</th>\n",
       "      <th>Rotation</th>\n",
       "    </tr>\n",
       "  </thead>\n",
       "  <tbody>\n",
       "    <tr>\n",
       "      <th>0</th>\n",
       "      <td>0</td>\n",
       "      <td>1</td>\n",
       "      <td>0.000002</td>\n",
       "      <td>1.000000e+10</td>\n",
       "      <td>20.000000</td>\n",
       "      <td>1000.000000</td>\n",
       "      <td>[[1.0, 0.0, -1.0, -0.0], [0.0, 0.0, -0.0, -0.0...</td>\n",
       "    </tr>\n",
       "    <tr>\n",
       "      <th>1</th>\n",
       "      <td>1</td>\n",
       "      <td>2</td>\n",
       "      <td>0.000002</td>\n",
       "      <td>1.200000e+10</td>\n",
       "      <td>28.284271</td>\n",
       "      <td>848.528137</td>\n",
       "      <td>[[0.4999999999999999, -0.4999999999999999, -0....</td>\n",
       "    </tr>\n",
       "    <tr>\n",
       "      <th>2</th>\n",
       "      <td>2</td>\n",
       "      <td>0</td>\n",
       "      <td>0.000003</td>\n",
       "      <td>1.000000e+10</td>\n",
       "      <td>20.000000</td>\n",
       "      <td>1500.000000</td>\n",
       "      <td>[[0.0, -0.0, -0.0, 0.0], [-0.0, 1.0, 0.0, -1.0...</td>\n",
       "    </tr>\n",
       "  </tbody>\n",
       "</table>\n",
       "</div>"
      ],
      "text/plain": [
       "   start  end      area      material     length    stiffness  \\\n",
       "0      0    1  0.000002  1.000000e+10  20.000000  1000.000000   \n",
       "1      1    2  0.000002  1.200000e+10  28.284271   848.528137   \n",
       "2      2    0  0.000003  1.000000e+10  20.000000  1500.000000   \n",
       "\n",
       "                                            Rotation  \n",
       "0  [[1.0, 0.0, -1.0, -0.0], [0.0, 0.0, -0.0, -0.0...  \n",
       "1  [[0.4999999999999999, -0.4999999999999999, -0....  \n",
       "2  [[0.0, -0.0, -0.0, 0.0], [-0.0, 1.0, 0.0, -1.0...  "
      ]
     },
     "execution_count": 66,
     "metadata": {},
     "output_type": "execute_result"
    }
   ],
   "source": [
    "def compute(element):\n",
    "    \n",
    "    start= element['start']\n",
    "    end= element['end']\n",
    "    \n",
    "    \n",
    "    coordinate_x_start = nodes.loc[start, 'coordinate_x']\n",
    "    coordinate_x_end = nodes.loc[end, 'coordinate_x']\n",
    "    \n",
    "    coordinate_y_start = nodes.loc[start, 'coordinate_y']\n",
    "    coordinate_y_end = nodes.loc[end, 'coordinate_y']\n",
    "    \n",
    "    deltaX = coordinate_x_end - coordinate_x_start\n",
    "    deltaY = coordinate_y_end - coordinate_y_start\n",
    "    length = np.sqrt(deltaX**2+deltaY**2)\n",
    "    \n",
    "    stiffness = element['area']*element['material']/ length\n",
    "    \n",
    "    c = deltaX/length\n",
    "    s = deltaY/length\n",
    "    \n",
    "    \n",
    "    \n",
    "    \n",
    "    Rotation = np.array([[c*c,c*s,-c*c,-c*s],\n",
    "                 [c*s,s*s,-c*s,-s*s],\n",
    "                 [-c*c,-c*s,c*c,c*s],\n",
    "                 [-c*s,-s*s,c*s,s*s]])\n",
    "    \n",
    "    return length , stiffness, Rotation\n",
    "\n",
    "elements[['length','stiffness','Rotation']] = elements.apply(compute, axis =1 , result_type='expand')\n",
    "elements"
   ]
  },
  {
   "cell_type": "code",
   "execution_count": 89,
   "metadata": {},
   "outputs": [
    {
     "data": {
      "text/plain": [
       "array([[ 1000. ,     0. , -1000. ,     0. ,     0. ,     0. ],\n",
       "       [    0. ,  1500. ,     0. ,     0. ,     0. , -1500. ],\n",
       "       [-1000. ,     0. ,  1424.3,  -424.3,  -424.3,   424.3],\n",
       "       [    0. ,     0. ,  -424.3,   424.3,   424.3,  -424.3],\n",
       "       [    0. ,     0. ,  -424.3,   424.3,   424.3,  -424.3],\n",
       "       [    0. , -1500. ,   424.3,  -424.3,  -424.3,  1924.3]])"
      ]
     },
     "execution_count": 89,
     "metadata": {},
     "output_type": "execute_result"
    }
   ],
   "source": [
    "def compute_globalK(element):\n",
    "    N = len(nodes)\n",
    "    indices = np.arange(N*2)\n",
    "    indices= indices.reshape(-1,2)\n",
    "    K = np.zeros((N*2,N*2))\n",
    "    start = element['start']\n",
    "    end = element['end']\n",
    "    indices= np.hstack([indices[start],indices[end]])\n",
    "    K[np.ix_(indices,indices)] = element['stiffness']*element['Rotation']\n",
    "    return K \n",
    "\n",
    "globalK = elements.apply(compute_globalK, axis = 1).sum()\n",
    "globalK.round(1)"
   ]
  },
  {
   "cell_type": "code",
   "execution_count": 110,
   "metadata": {},
   "outputs": [
    {
     "name": "stdout",
     "output_type": "stream",
     "text": [
      "[[ 1000.             0.         -1000.             0.\n",
      "      0.             0.        ]\n",
      " [    0.          1500.             0.             0.\n",
      "      0.         -1500.        ]\n",
      " [-1000.             0.          1424.26406871  -424.26406871\n",
      "   -424.26406871   424.26406871]\n",
      " [    0.             0.          -424.26406871   424.26406871\n",
      "    424.26406871  -424.26406871]\n",
      " [    0.             0.          -424.26406871   424.26406871\n",
      "    424.26406871  -424.26406871]\n",
      " [    0.         -1500.           424.26406871  -424.26406871\n",
      "   -424.26406871  1924.26406871]]\n"
     ]
    },
    {
     "data": {
      "text/plain": [
       "array([[1424.26406871, -424.26406871,  424.26406871],\n",
       "       [-424.26406871,  424.26406871, -424.26406871],\n",
       "       [ 424.26406871, -424.26406871, 1924.26406871]])"
      ]
     },
     "execution_count": 110,
     "metadata": {},
     "output_type": "execute_result"
    }
   ],
   "source": [
    "K = globalK\n",
    "\n",
    "print(K)\n",
    "\n",
    "def partition_K(K,A,B):\n",
    "    KAA = K[np.ix_(A,A)]\n",
    "    KAB = K[np.ix_(A,B)]\n",
    "    KBA = K[np.ix_(B,A)]\n",
    "    KBB = K[np.ix_(B,B)]\n",
    "    return KAA, KAB, KBA, KBB\n",
    "    \n",
    "\n",
    "\n",
    "U = nodes[['displacement_x','displacement_y']].to_numpy()\n",
    "U = U.ravel()\n",
    "A = np.isnan(U)\n",
    "\n",
    "P = nodes[['load_x','load_y']].to_numpy()\n",
    "P = P.ravel()\n",
    "B = np.isnan(P)\n",
    "\n",
    "KAA, KAB, KBA, KBB = partition_K(K, A, B)\n",
    "KAA\n"
   ]
  },
  {
   "cell_type": "code",
   "execution_count": 126,
   "metadata": {},
   "outputs": [
    {
     "data": {
      "text/html": [
       "<div>\n",
       "<style scoped>\n",
       "    .dataframe tbody tr th:only-of-type {\n",
       "        vertical-align: middle;\n",
       "    }\n",
       "\n",
       "    .dataframe tbody tr th {\n",
       "        vertical-align: top;\n",
       "    }\n",
       "\n",
       "    .dataframe thead th {\n",
       "        text-align: right;\n",
       "    }\n",
       "</style>\n",
       "<table border=\"1\" class=\"dataframe\">\n",
       "  <thead>\n",
       "    <tr style=\"text-align: right;\">\n",
       "      <th></th>\n",
       "      <th>coordinate_x</th>\n",
       "      <th>coordinate_y</th>\n",
       "      <th>displacement_x</th>\n",
       "      <th>displacement_y</th>\n",
       "      <th>load_x</th>\n",
       "      <th>load_y</th>\n",
       "    </tr>\n",
       "  </thead>\n",
       "  <tbody>\n",
       "    <tr>\n",
       "      <th>0</th>\n",
       "      <td>0</td>\n",
       "      <td>0</td>\n",
       "      <td>0.000000</td>\n",
       "      <td>0.000000</td>\n",
       "      <td>-500.0</td>\n",
       "      <td>-500.0</td>\n",
       "    </tr>\n",
       "    <tr>\n",
       "      <th>1</th>\n",
       "      <td>20</td>\n",
       "      <td>0</td>\n",
       "      <td>0.500000</td>\n",
       "      <td>0.000000</td>\n",
       "      <td>0.0</td>\n",
       "      <td>500.0</td>\n",
       "    </tr>\n",
       "    <tr>\n",
       "      <th>2</th>\n",
       "      <td>0</td>\n",
       "      <td>20</td>\n",
       "      <td>2.011845</td>\n",
       "      <td>0.333333</td>\n",
       "      <td>500.0</td>\n",
       "      <td>0.0</td>\n",
       "    </tr>\n",
       "  </tbody>\n",
       "</table>\n",
       "</div>"
      ],
      "text/plain": [
       "   coordinate_x  coordinate_y  displacement_x  displacement_y  load_x  load_y\n",
       "0             0             0        0.000000        0.000000  -500.0  -500.0\n",
       "1            20             0        0.500000        0.000000     0.0   500.0\n",
       "2             0            20        2.011845        0.333333   500.0     0.0"
      ]
     },
     "execution_count": 126,
     "metadata": {},
     "output_type": "execute_result"
    }
   ],
   "source": [
    "#known displacement, UB\n",
    "\n",
    "UB = U[B]\n",
    "UB\n",
    "\n",
    "PA  = P[A]\n",
    "#known load, PA\n",
    "\n",
    "PA\n",
    "UA = np.dot(np.linalg.inv(KAA),(PA-np.dot(KAB,UB)))\n",
    "U[A] = UA\n",
    "\n",
    "PB = np.dot(KBA, UA) + np.dot(KBB, UB)\n",
    "\n",
    "P[B]= PB\n",
    "\n",
    "result = nodes.copy()\n",
    "\n",
    "result [['displacement_x','displacement_y']]= U.reshape(-1,2)\n",
    "result [['load_x','load_y']]=P.reshape(-1,2)\n",
    "\n",
    "result"
   ]
  },
  {
   "cell_type": "code",
   "execution_count": 136,
   "metadata": {},
   "outputs": [
    {
     "name": "stderr",
     "output_type": "stream",
     "text": [
      "C:\\Users\\AlexP\\AppData\\Local\\Temp\\ipykernel_20000\\2577512189.py:7: UserWarning: color is redundantly defined by the 'color' keyword argument and the fmt string \"--or\" (-> color='r'). The keyword argument will take precedence.\n",
      "  plt.plot(result['deformed_x'],result['deformed_y'], '--or', label='deformed', linewidth=5, color='blue')\n"
     ]
    },
    {
     "data": {
      "text/plain": [
       "<matplotlib.legend.Legend at 0x2154c1f3bc0>"
      ]
     },
     "execution_count": 136,
     "metadata": {},
     "output_type": "execute_result"
    },
    {
     "data": {
      "image/png": "[encoded data removed]",
      "text/plain": [
       "<Figure size 640x480 with 1 Axes>"
      ]
     },
     "metadata": {},
     "output_type": "display_data"
    }
   ],
   "source": [
    "result['deformed_x'] = result['coordinate_x']+result['displacement_x']\n",
    "result['deformed_y'] = result['coordinate_y']+result['displacement_y']\n",
    "\n",
    "\n",
    "result.loc[3] = result.loc[0]\n",
    "plt.plot(result['coordinate_x'],result['coordinate_y'], '--or', label='original', linewidth=5)\n",
    "plt.plot(result['deformed_x'],result['deformed_y'], '--or', label='deformed', linewidth=5, color='blue')\n",
    "\n",
    "plt.legend()"
   ]
  }
 ],
 "metadata": {
  "kernelspec": {
   "display_name": "Python 3",
   "language": "python",
   "name": "python3"
  },
  "language_info": {
   "codemirror_mode": {
    "name": "ipython",
    "version": 3
   },
   "file_extension": ".py",
   "mimetype": "text/x-python",
   "name": "python",
   "nbconvert_exporter": "python",
   "pygments_lexer": "ipython3",
   "version": "3.12.0"
  }
 },
 "nbformat": 4,
 "nbformat_minor": 2
}
